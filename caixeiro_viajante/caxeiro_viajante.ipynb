{
 "cells": [
  {
   "cell_type": "code",
   "execution_count": 16,
   "id": "e523dd18",
   "metadata": {},
   "outputs": [],
   "source": [
    "from numba import jit\n",
    "import numpy as np\n",
    "import matplotlib.pyplot as plt\n",
    "import time\n",
    "\n",
    "N=128      # Numero de cidades\n",
    "\n",
    "rng = np.random.default_rng(seed=42)   # Define as posições aleatórias das cidades\n",
    "x=rng.random(N)\n",
    "y=rng.random(N)\n",
    "\n",
    "# define o caminho que liga as cidades (inicialmente a sequencia como foi criada)\n",
    "pathini = np.zeros(N,dtype=np.int16)\n",
    "for i in range(N):\n",
    "    pathini[i]=i\n",
    "# Tempo FInal"
   ]
  },
  {
   "cell_type": "code",
   "execution_count": 17,
   "id": "e008689e",
   "metadata": {},
   "outputs": [],
   "source": [
    "#define a distancia entre duas cidades quaisquer\n",
    "@jit(nopython=True)\n",
    "def distances(N,x,y):\n",
    "    \n",
    "    dist = np.zeros((N,N),dtype=np.float32)\n",
    "    for i in range(N):\n",
    "        for j in range(N):\n",
    "            dist[i,j] = np.sqrt((x[i]-x[j])*(x[i]-x[j])+(y[i]-y[j])*(y[i]-y[j]))\n",
    "            \n",
    "    return dist"
   ]
  },
  {
   "cell_type": "code",
   "execution_count": 18,
   "id": "91d2ce8f",
   "metadata": {},
   "outputs": [],
   "source": [
    "@jit(nopython=True)\n",
    "def custo(N,path,dist):\n",
    "    # calcula a distancia total percorrida pela caminhada\n",
    "    ener = 0\n",
    "    for i in range(N-1):\n",
    "        ener += dist[path[i],path[i+1]]\n",
    "    ener += dist[path[0],path[N-1]]     # conecta a última e a primeira cidades do caminho\n",
    "    \n",
    "    return ener"
   ]
  },
  {
   "cell_type": "code",
   "execution_count": 19,
   "id": "2c339c65",
   "metadata": {},
   "outputs": [],
   "source": [
    "@jit(nopython=True)\n",
    "def newpath(N,path):\n",
    "    \n",
    "    # define uma nova caminhada\n",
    "    \n",
    "    newpath = np.zeros(N,dtype=np.int16)\n",
    "\n",
    "    i=np.random.randint(N)   # escolhe uma posição aleatória da caminhada\n",
    "    j=i\n",
    "    while j==i:\n",
    "        j=np.random.randint(N)  # escolhe outra posição \n",
    "    if i>j:                    # ordena os índices\n",
    "        ini = j\n",
    "        fin = i\n",
    "    else:\n",
    "        ini = i\n",
    "        fin = j\n",
    "\n",
    "    for k in range(N):        # inverte o sentido em que percorre o caminho entre os indices escolhidos\n",
    "        if k >= ini and k <= fin:\n",
    "            newpath[k] = path[fin-k+ini]\n",
    "        else:\n",
    "            newpath[k] = path[k]\n",
    "\n",
    "    return newpath,ini,fin\n",
    "\n"
   ]
  },
  {
   "cell_type": "code",
   "execution_count": 20,
   "id": "8fbed79e",
   "metadata": {},
   "outputs": [],
   "source": [
    "@jit(nopython=True)\n",
    "def mcstep(N,beta,en,path,best_e,best_p,dist):\n",
    "    # realiza um passo de Monte Carlo\n",
    "    np1 = np.zeros(N,dtype=np.int16)\n",
    "    \n",
    "    np1,ini,fin = newpath(N,path) # propoe um novo caminho\n",
    "    \n",
    "    # determina a diferença de energia \n",
    "    esq = ini-1         # cidade anterior a inicial\n",
    "    if esq < 0: esq=N-1      # condicao de contorno\n",
    "    dir = fin +1        # cidade apos a final\n",
    "    if dir > N-1: dir=0      # condicao de contorno\n",
    "    de = -dist[path[esq],path[ini]] - dist[path[dir],path[fin]]+ dist[np1[esq],np1[ini]] + dist[np1[dir],np1[fin]]\n",
    "\n",
    "    if de < 0:         # aplica o criterio de Metropolis\n",
    "        en += de\n",
    "        path = np1\n",
    "        if en < best_e:  # guarda o melhor caminho gerado até o momento\n",
    "            best_e = en\n",
    "            best_p = path\n",
    "    else:              # aplica o criterio de Metropolis\n",
    "        if np.random.random() < np.exp(-beta*de):\n",
    "            en += de\n",
    "            path = np1\n",
    "            \n",
    "    return en,path,best_e,best_p"
   ]
  },
  {
   "cell_type": "code",
   "execution_count": 21,
   "id": "13c3ae56",
   "metadata": {},
   "outputs": [],
   "source": [
    "@jit(nopython=True)\n",
    "def execution(decrease_rate, begin_temperature, end_temperature, passos_de_monte_carlo, N, begin_path, x, y, n_restart):\n",
    "    temperature = begin_temperature\n",
    "    distance = distances(N, x, y)\n",
    "    energy = custo(N, begin_path, distance)\n",
    "    path = begin_path\n",
    "\n",
    "    \n",
    "    best_energy = energy\n",
    "    best_path = begin_path\n",
    "    \n",
    "    count_restart_high_temp = n_restart\n",
    "    count_restart_low_temp = n_restart\n",
    "    count_do_again = n_restart\n",
    "    while(temperature > end_temperature):\n",
    "\n",
    "        for i in range(passos_de_monte_carlo):\n",
    "            energy, path, best_energy, best_path = mcstep(N, 1 / temperature, energy, path, best_energy, best_path, distance)\n",
    "        \n",
    "        temperature *= decrease_rate\n",
    "        \n",
    "\n",
    "        # Os if's abaixo são responsáveis pelo restart ou seja responsável por aumentar a energia do sistema\n",
    "        # Para que o mesmo aceite mudanças mais drasticas\n",
    "        if count_restart_high_temp != 0 and temperature < begin_temperature * 0.5:\n",
    "            temperature = begin_temperature * 1\n",
    "            count_restart_high_temp -= 1 \n",
    "\n",
    "        if count_restart_high_temp == 0 and count_restart_low_temp != 0 and temperature < begin_temperature * 0.01:\n",
    "            temperature = begin_temperature * 0.4\n",
    "            count_restart_low_temp -= 1 \n",
    "\n",
    "        if temperature > end_temperature and count_do_again:\n",
    "            temperature = begin_temperature\n",
    "            count_do_again -= 1\n",
    "            count_restart_high_temp = n_restart\n",
    "            count_restart_low_temp = n_restart\n",
    "\n",
    "        \n",
    "\n",
    "    return best_path, best_energy"
   ]
  },
  {
   "cell_type": "code",
   "execution_count": 22,
   "id": "be288783",
   "metadata": {},
   "outputs": [],
   "source": [
    "rng = np.random.default_rng(seed=42)"
   ]
  },
  {
   "attachments": {},
   "cell_type": "markdown",
   "id": "3c3ac667",
   "metadata": {},
   "source": [
    "# Algoritmo para a Competição"
   ]
  },
  {
   "attachments": {},
   "cell_type": "markdown",
   "id": "6aadbb28",
   "metadata": {},
   "source": [
    "## Inicia o Tempo"
   ]
  },
  {
   "cell_type": "code",
   "execution_count": 23,
   "id": "53111153",
   "metadata": {},
   "outputs": [],
   "source": [
    "start_time = time.time()"
   ]
  },
  {
   "attachments": {},
   "cell_type": "markdown",
   "id": "d34caa63",
   "metadata": {},
   "source": [
    "## Abre o arquivo com as posições"
   ]
  },
  {
   "cell_type": "code",
   "execution_count": 24,
   "id": "2d55410f",
   "metadata": {},
   "outputs": [],
   "source": [
    "file = open('arquivo_de_entrada/prof_example.dat')\n",
    "\n",
    "location = []\n",
    "\n",
    "for line in file:\n",
    "    x, y = line.split(\" \")\n",
    "    x = float(x)\n",
    "    y = float(y)\n",
    "    location.append([x, y])\n",
    "\n",
    "location = np.asarray(location)\n",
    "\n",
    "x = location[:, 0]\n",
    "y = location[:, 1]\n",
    "N = x.size\n",
    "\n",
    "pathini = np.zeros(N,dtype=np.int16)\n",
    "for i in range(N):\n",
    "    pathini[i]=i"
   ]
  },
  {
   "attachments": {},
   "cell_type": "markdown",
   "id": "9bdb40cb",
   "metadata": {},
   "source": [
    "## Executa o Algoritmo"
   ]
  },
  {
   "cell_type": "code",
   "execution_count": 25,
   "id": "8ac46a9e",
   "metadata": {},
   "outputs": [
    {
     "name": "stdout",
     "output_type": "stream",
     "text": [
      "A menor distancia encontrada foi: 8.802018444053829\n"
     ]
    },
    {
     "data": {
      "image/png": "[encoded data removed]",
      "text/plain": [
       "<Figure size 640x480 with 1 Axes>"
      ]
     },
     "metadata": {},
     "output_type": "display_data"
    }
   ],
   "source": [
    "caminho, distacia = execution(0.99, 10, 0.0001, 250, N,pathini, x, y, n_restart=1)\n",
    "\n",
    "print(f\"A menor distancia encontrada foi: {distacia}\")\n",
    "\n",
    "for cidade in range (len(caminho) - 1):\n",
    "    plt.plot([x[caminho[cidade]], x[caminho[cidade+1]]],[y[caminho[cidade]], y[caminho[cidade+1]]], 'b')"
   ]
  },
  {
   "attachments": {},
   "cell_type": "markdown",
   "id": "c62f1c26",
   "metadata": {},
   "source": [
    "## Termina a função"
   ]
  },
  {
   "cell_type": "code",
   "execution_count": 26,
   "id": "27cfa547",
   "metadata": {},
   "outputs": [
    {
     "name": "stdout",
     "output_type": "stream",
     "text": [
      "--- 1.2725844383239746 seconds ---\n"
     ]
    }
   ],
   "source": [
    "\n",
    "print(\"--- %s seconds ---\" % (time.time() - start_time))"
   ]
  },
  {
   "attachments": {},
   "cell_type": "markdown",
   "id": "c62d7bbf",
   "metadata": {},
   "source": [
    "# A atividade está em elaboração"
   ]
  }
 ],
 "metadata": {
  "kernelspec": {
   "display_name": "Python 3 (ipykernel)",
   "language": "python",
   "name": "python3"
  },
  "language_info": {
   "codemirror_mode": {
    "name": "ipython",
    "version": 3
   },
   "file_extension": ".py",
   "mimetype": "text/x-python",
   "name": "python",
   "nbconvert_exporter": "python",
   "pygments_lexer": "ipython3",
   "version": "3.10.9"
  }
 },
 "nbformat": 4,
 "nbformat_minor": 5
}
