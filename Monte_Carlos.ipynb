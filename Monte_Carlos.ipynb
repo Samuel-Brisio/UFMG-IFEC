{
 "cells": [
  {
   "cell_type": "code",
   "execution_count": 92,
   "metadata": {
    "collapsed": true,
    "id": "cdwwkvFgK9UP"
   },
   "outputs": [],
   "source": [
    "import numpy as np\n",
    "import matplotlib.pyplot as plt"
   ]
  },
  {
   "cell_type": "code",
   "execution_count": 93,
   "metadata": {
    "collapsed": true,
    "id": "IjiBJ1zUK9UQ"
   },
   "outputs": [],
   "source": [
    "np.random.seed(5)"
   ]
  },
  {
   "cell_type": "markdown",
   "metadata": {},
   "source": [
    "# Integrantes"
   ]
  },
  {
   "cell_type": "markdown",
   "metadata": {},
   "source": [
    "Gabriel Alves Reis 2020006507\n",
    "\n",
    "Samuel Brísio de Jesus 2020085547"
   ]
  },
  {
   "cell_type": "markdown",
   "metadata": {
    "id": "PWOAqzVkMUHB"
   },
   "source": [
    "# Exercicio 1"
   ]
  },
  {
   "cell_type": "markdown",
   "metadata": {},
   "source": [
    "Neste exercío percebemos que o erro estatístico:\n"
   ]
  },
  {
   "cell_type": "markdown",
   "metadata": {
    "id": "1tP053BrQYxc"
   },
   "source": [
    "## Metodo 1"
   ]
  },
  {
   "cell_type": "code",
   "execution_count": 94,
   "metadata": {
    "collapsed": true,
    "id": "0pdoaAfHNgKH"
   },
   "outputs": [],
   "source": [
    "# Numero de Repeticoes de cada Experimento\n",
    "repetition_num = 1000\n",
    "\n",
    "\n",
    "# Formula da Equacao\n",
    "def equac(x):\n",
    "    return (1 - x**2)\n",
    "\n",
    "\n",
    "# Resolucao da Integral pelo metodo 1\n",
    "def integral_calc_1(n):\n",
    "  a = 0\n",
    "  b = 1\n",
    "  y_max = 1\n",
    "\n",
    "\n",
    "  lista_x = np.random.rand(n)\n",
    "  lista_y = np.random.rand(n)\n",
    "\n",
    "  count = 0\n",
    "\n",
    "  for i in range(n):\n",
    "    valor = equac(lista_x[i])\n",
    "    if lista_y[i] <= valor:\n",
    "      count += 1\n",
    "\n",
    "  return count / n * y_max * (b - a) "
   ]
  },
  {
   "cell_type": "markdown",
   "metadata": {
    "id": "-wOJYCi_M5Zp"
   },
   "source": [
    "### N = 100"
   ]
  },
  {
   "cell_type": "code",
   "execution_count": 95,
   "metadata": {
    "colab": {
     "base_uri": "https://localhost:8080/",
     "height": 282
    },
    "id": "stx3H7FoK9UR",
    "outputId": "25a22ea7-7713-4795-99da-b35aa6b9bb25"
   },
   "outputs": [
    {
     "name": "stdout",
     "output_type": "stream",
     "text": [
      "Solução numerica da integral: 0.6656000000000015\n",
      "Respota Analitica: 0.6666666666666666\n",
      "Erro estatístico: 0.004659442026680877\n"
     ]
    },
    {
     "data": {
      "image/png": "[encoded data removed]",
      "text/plain": [
       "<Figure size 432x288 with 1 Axes>"
      ]
     },
     "metadata": {},
     "output_type": "display_data"
    }
   ],
   "source": [
    "n = 100\n",
    "\n",
    "results = []\n",
    "\n",
    "for i in range(repetition_num):\n",
    "  value = integral_calc_1(n)\n",
    "  results.append(value)\n",
    "\n",
    "plt.hist(results)\n",
    "\n",
    "print(f'Solução numerica da integral: { sum(results) / len(results) }')\n",
    "print(f'Respota Analitica: {2/3}')\n",
    "\n",
    "erro = np.array(results)\n",
    "print(f'Erro estatístico: { erro.std() / np.sqrt(n) }')\n",
    "\n",
    "plt.show()"
   ]
  },
  {
   "cell_type": "markdown",
   "metadata": {
    "id": "Jztdc28mQP6L"
   },
   "source": [
    "### N = 1000"
   ]
  },
  {
   "cell_type": "code",
   "execution_count": 96,
   "metadata": {
    "colab": {
     "base_uri": "https://localhost:8080/",
     "height": 282
    },
    "id": "e8CQu7VUQP6O",
    "outputId": "1378d98d-bb53-4037-8e41-26e4ba4d0be2"
   },
   "outputs": [
    {
     "name": "stdout",
     "output_type": "stream",
     "text": [
      "Solução numerica da integral: 0.66653\n",
      "Respota Analitica: 0.6666666666666666\n",
      "Erro estatístico: 0.000458775653233691\n"
     ]
    },
    {
     "data": {
      "image/png": "[encoded data removed]",
      "text/plain": [
       "<Figure size 432x288 with 1 Axes>"
      ]
     },
     "metadata": {},
     "output_type": "display_data"
    }
   ],
   "source": [
    "n = 1000\n",
    "\n",
    "results = []\n",
    "\n",
    "for i in range(repetition_num):\n",
    "  value = integral_calc_1(n)\n",
    "  results.append(value)\n",
    "\n",
    "plt.hist(results)\n",
    "\n",
    "print(f'Solução numerica da integral: { sum(results) / len(results) }')\n",
    "print(f'Respota Analitica: {2/3}')\n",
    "erro = np.array(results)\n",
    "print(f'Erro estatístico: { erro.std() / np.sqrt(n) }')\n",
    "\n",
    "plt.show()"
   ]
  },
  {
   "cell_type": "markdown",
   "metadata": {
    "id": "_Q_JbO_xQO_7"
   },
   "source": [
    "### N = 10000\n"
   ]
  },
  {
   "cell_type": "code",
   "execution_count": 97,
   "metadata": {
    "colab": {
     "base_uri": "https://localhost:8080/",
     "height": 282
    },
    "id": "j8XHStcAQO__",
    "outputId": "6b0deb8b-92b2-4ff1-ea8b-8a3ebb593288"
   },
   "outputs": [
    {
     "name": "stdout",
     "output_type": "stream",
     "text": [
      "Solução numerica da integral: 0.6667747000000006\n",
      "Respota Analitica: 0.6666666666666666\n",
      "Erro estatístico: 4.585336400963401e-05\n"
     ]
    },
    {
     "data": {
      "image/png": "[encoded data removed]",
      "text/plain": [
       "<Figure size 432x288 with 1 Axes>"
      ]
     },
     "metadata": {},
     "output_type": "display_data"
    }
   ],
   "source": [
    "n = 10000\n",
    "\n",
    "results = []\n",
    "\n",
    "for i in range(repetition_num):\n",
    "  value = integral_calc_1(n)\n",
    "  results.append(value)\n",
    "\n",
    "plt.hist(results)\n",
    "\n",
    "print(f'Solução numerica da integral: { sum(results) / len(results) }')\n",
    "print(f'Respota Analitica: {2/3}')\n",
    "erro = np.array(results)\n",
    "print(f'Erro estatístico: { erro.std() / np.sqrt(n) }')\n",
    "\n",
    "plt.show()"
   ]
  },
  {
   "cell_type": "markdown",
   "metadata": {
    "id": "mMyFghPsQg3_"
   },
   "source": [
    "## Metodo 2"
   ]
  },
  {
   "cell_type": "code",
   "execution_count": 98,
   "metadata": {
    "collapsed": true,
    "id": "wGfWkklqQf4d"
   },
   "outputs": [],
   "source": [
    "# Numero de Repeticoes de cada Experimento\n",
    "repetition_num = 1000\n",
    "\n",
    "\n",
    "# Formula da Equacao\n",
    "def equac(x):\n",
    "    return (1 - x**2)\n",
    "\n",
    "\n",
    "# Resolucao da Integral pelo metodo 2\n",
    "def integral_calc_method_2(n):\n",
    "  a = 0\n",
    "  b = 1\n",
    "  y_max = 1\n",
    "\n",
    "  lista_x = np.random.rand(n)\n",
    "  results = equac(lista_x)\n",
    "\n",
    "  return (b - a) / n * results.sum()"
   ]
  },
  {
   "cell_type": "markdown",
   "metadata": {
    "id": "5piIyDj-RwK0"
   },
   "source": [
    "### N = 100"
   ]
  },
  {
   "cell_type": "code",
   "execution_count": 99,
   "metadata": {
    "colab": {
     "base_uri": "https://localhost:8080/",
     "height": 282
    },
    "id": "Y8Q2OC4MRwK1",
    "outputId": "e7ffb1e4-fea8-4bf7-f787-8cb9cbc0c1f9"
   },
   "outputs": [
    {
     "name": "stdout",
     "output_type": "stream",
     "text": [
      "Solução numerica da integral: 0.6656478319101771\n",
      "Respota Analitica: 0.6666666666666666\n",
      "Erro estatístico: 0.0029623391602142416\n"
     ]
    },
    {
     "data": {
      "image/png": "[encoded data removed]",
      "text/plain": [
       "<Figure size 432x288 with 1 Axes>"
      ]
     },
     "metadata": {},
     "output_type": "display_data"
    }
   ],
   "source": [
    "n = 100\n",
    "\n",
    "results = []\n",
    "\n",
    "for i in range(repetition_num):\n",
    "  value = integral_calc_method_2(n)\n",
    "  results.append(value)\n",
    "\n",
    "plt.hist(results)\n",
    "\n",
    "print(f'Solução numerica da integral: { sum(results) / len(results) }')\n",
    "print(f'Respota Analitica: {2/3}')\n",
    "erro = np.array(results)\n",
    "print(f'Erro estatístico: { erro.std() / np.sqrt(n) }')\n",
    "\n",
    "plt.show()"
   ]
  },
  {
   "cell_type": "markdown",
   "metadata": {
    "id": "-2DuZXEkRwK2"
   },
   "source": [
    "### N = 1000"
   ]
  },
  {
   "cell_type": "code",
   "execution_count": 100,
   "metadata": {
    "colab": {
     "base_uri": "https://localhost:8080/",
     "height": 282
    },
    "id": "nRhQTAXoRwK2",
    "outputId": "04953ed6-572c-417c-876f-91f9489160c8"
   },
   "outputs": [
    {
     "name": "stdout",
     "output_type": "stream",
     "text": [
      "Solução numerica da integral: 0.6668619409668759\n",
      "Respota Analitica: 0.6666666666666666\n",
      "Erro estatístico: 0.0002909229342945692\n"
     ]
    },
    {
     "data": {
      "image/png": "[encoded data removed]",
      "text/plain": [
       "<Figure size 432x288 with 1 Axes>"
      ]
     },
     "metadata": {},
     "output_type": "display_data"
    }
   ],
   "source": [
    "n = 1000\n",
    "\n",
    "results = []\n",
    "\n",
    "for i in range(repetition_num):\n",
    "  value = integral_calc_method_2(n)\n",
    "  results.append(value)\n",
    "\n",
    "plt.hist(results)\n",
    "\n",
    "print(f'Solução numerica da integral: { sum(results) / len(results) }')\n",
    "print(f'Respota Analitica: {2/3}')\n",
    "erro = np.array(results)\n",
    "print(f'Erro estatístico: { erro.std() / np.sqrt(n) }')\n",
    "\n",
    "plt.show()"
   ]
  },
  {
   "cell_type": "markdown",
   "metadata": {
    "id": "kV1q9jivRwK2"
   },
   "source": [
    "### N = 10000\n"
   ]
  },
  {
   "cell_type": "code",
   "execution_count": 101,
   "metadata": {
    "colab": {
     "base_uri": "https://localhost:8080/",
     "height": 282
    },
    "id": "mex72HHuRwK2",
    "outputId": "f8be547d-96c4-4dbe-ee95-6156704e0bb0"
   },
   "outputs": [
    {
     "name": "stdout",
     "output_type": "stream",
     "text": [
      "Solução numerica da integral: 0.6668041017005233\n",
      "Respota Analitica: 0.6666666666666666\n",
      "Erro estatístico: 2.9378201245533163e-05\n"
     ]
    },
    {
     "data": {
      "image/png": "[encoded data removed]",
      "text/plain": [
       "<Figure size 432x288 with 1 Axes>"
      ]
     },
     "metadata": {},
     "output_type": "display_data"
    }
   ],
   "source": [
    "n = 10000\n",
    "\n",
    "results = []\n",
    "\n",
    "for i in range(repetition_num):\n",
    "  value = integral_calc_method_2(n)\n",
    "  results.append(value)\n",
    "\n",
    "plt.hist(results)\n",
    "\n",
    "print(f'Solução numerica da integral: { sum(results) / len(results) }')\n",
    "print(f'Respota Analitica: {2/3}')\n",
    "erro = np.array(results)\n",
    "print(f'Erro estatístico: { erro.std() / np.sqrt(n) }')\n",
    "\n",
    "plt.show()"
   ]
  },
  {
   "cell_type": "markdown",
   "metadata": {
    "id": "8302XOELStWn"
   },
   "source": [
    "# Exercicio 2"
   ]
  },
  {
   "cell_type": "markdown",
   "metadata": {
    "id": "PGDORIJkStWq"
   },
   "source": [
    "## Metodo 1"
   ]
  },
  {
   "cell_type": "code",
   "execution_count": 102,
   "metadata": {
    "collapsed": true,
    "id": "09XszydWStWu"
   },
   "outputs": [],
   "source": [
    "# Numero de Repeticoes de cada Experimento\n",
    "repetition_num = 1000\n",
    "\n",
    "\n",
    "# Formula da Equacao\n",
    "def equac(x):\n",
    "    return (np.exp(x))\n",
    "    \n",
    "\n",
    "# Resolucao da Integral pelo metodo 1\n",
    "def integral_calc_method_1(n):\n",
    "  a = 0\n",
    "  b = 1\n",
    "  y_max = np.exp(1)\n",
    "\n",
    "  lista_x = np.random.rand(n)\n",
    "  lista_y = np.random.rand(n) * np.exp(1)\n",
    "\n",
    "  count = 0\n",
    "\n",
    "  for i in range(n):\n",
    "    valor = equac(lista_x[i])\n",
    "    if lista_y[i] <= valor:\n",
    "      count += 1\n",
    "\n",
    "  return count / n * y_max * (b - a) "
   ]
  },
  {
   "cell_type": "markdown",
   "metadata": {
    "id": "noqEwltSStWx"
   },
   "source": [
    "### N = 100"
   ]
  },
  {
   "cell_type": "code",
   "execution_count": 103,
   "metadata": {
    "colab": {
     "base_uri": "https://localhost:8080/",
     "height": 282
    },
    "id": "kD0nhbqyStWz",
    "outputId": "cc9a8e40-af95-4723-828f-22da5737cae7"
   },
   "outputs": [
    {
     "name": "stdout",
     "output_type": "stream",
     "text": [
      "Solução numerica da integral: 1.7251847452498232\n",
      "Respota Analitica: 1.718281828459045\n",
      "Erro estatístico: 0.013380145273061847\n"
     ]
    },
    {
     "data": {
      "image/png": "[encoded data removed]",
      "text/plain": [
       "<Figure size 432x288 with 1 Axes>"
      ]
     },
     "metadata": {},
     "output_type": "display_data"
    }
   ],
   "source": [
    "n = 100\n",
    "\n",
    "results = []\n",
    "\n",
    "for i in range(repetition_num):\n",
    "  value = integral_calc_method_1(n)\n",
    "  results.append(value)\n",
    "\n",
    "plt.hist(results)\n",
    "\n",
    "print(f'Solução numerica da integral: { sum(results) / len(results) }')\n",
    "print(f'Respota Analitica: {np.exp(1) - 1}')\n",
    "erro = np.array(results)\n",
    "print(f'Erro estatístico: { erro.std() / np.sqrt(n) }')\n",
    "\n",
    "plt.show()"
   ]
  },
  {
   "cell_type": "markdown",
   "metadata": {
    "id": "WvHKKeoeStW0"
   },
   "source": [
    "### N = 1000"
   ]
  },
  {
   "cell_type": "code",
   "execution_count": 104,
   "metadata": {
    "colab": {
     "base_uri": "https://localhost:8080/",
     "height": 282
    },
    "id": "SfnL9zYFStW1",
    "outputId": "079fd87f-eeb2-46c4-889b-62ea1bd07cd3"
   },
   "outputs": [
    {
     "name": "stdout",
     "output_type": "stream",
     "text": [
      "Solução numerica da integral: 1.7170570825827258\n",
      "Respota Analitica: 1.718281828459045\n",
      "Erro estatístico: 0.0013207244394694427\n"
     ]
    },
    {
     "data": {
      "image/png": "[encoded data removed]",
      "text/plain": [
       "<Figure size 432x288 with 1 Axes>"
      ]
     },
     "metadata": {},
     "output_type": "display_data"
    }
   ],
   "source": [
    "n = 1000\n",
    "\n",
    "results = []\n",
    "\n",
    "for i in range(repetition_num):\n",
    "  value = integral_calc_method_1(n)\n",
    "  results.append(value)\n",
    "\n",
    "plt.hist(results)\n",
    "\n",
    "print(f'Solução numerica da integral: { sum(results) / len(results) }')\n",
    "print(f'Respota Analitica: {np.exp(1) - 1}')\n",
    "erro = np.array(results)\n",
    "print(f'Erro estatístico: { erro.std() / np.sqrt(n) }')\n",
    "\n",
    "plt.show()"
   ]
  },
  {
   "cell_type": "markdown",
   "metadata": {
    "id": "6qN_Er4TStW2"
   },
   "source": [
    "### N = 10000\n"
   ]
  },
  {
   "cell_type": "code",
   "execution_count": 105,
   "metadata": {
    "colab": {
     "base_uri": "https://localhost:8080/",
     "height": 282
    },
    "id": "MIi--NggStW3",
    "outputId": "a59b6353-7891-40d2-c63b-6c03c326f272"
   },
   "outputs": [
    {
     "name": "stdout",
     "output_type": "stream",
     "text": [
      "Solução numerica da integral: 1.7181163970112758\n",
      "Respota Analitica: 1.718281828459045\n",
      "Erro estatístico: 0.00012287441477511074\n"
     ]
    },
    {
     "data": {
      "image/png": "[encoded data removed]",
      "text/plain": [
       "<Figure size 432x288 with 1 Axes>"
      ]
     },
     "metadata": {},
     "output_type": "display_data"
    }
   ],
   "source": [
    "n = 10000\n",
    "\n",
    "results = []\n",
    "\n",
    "for i in range(repetition_num):\n",
    "  value = integral_calc_method_1(n)\n",
    "  results.append(value)\n",
    "\n",
    "plt.hist(results)\n",
    "\n",
    "print(f'Solução numerica da integral: { sum(results) / len(results) }')\n",
    "print(f'Respota Analitica: {np.exp(1) - 1}')\n",
    "erro = np.array(results)\n",
    "print(f'Erro estatístico: { erro.std() / np.sqrt(n) }')\n",
    "\n",
    "plt.show()"
   ]
  },
  {
   "cell_type": "markdown",
   "metadata": {
    "id": "0kbIqwJkStW3"
   },
   "source": [
    "## Metodo 2"
   ]
  },
  {
   "cell_type": "code",
   "execution_count": 106,
   "metadata": {
    "collapsed": true,
    "id": "BBT9byTKStW4"
   },
   "outputs": [],
   "source": [
    "# Numero de Repeticoes de cada Experimento\n",
    "repetition_num = 1000\n",
    "\n",
    "\n",
    "# Formula da Equacao\n",
    "def equac(x):\n",
    "    return (np.exp(x))\n",
    "\n",
    "\n",
    "# Resolucao da Integral pelo metodo 2\n",
    "def integral_calc_method_2(n):\n",
    "  a = 0\n",
    "  b = 1\n",
    "  y_max = 1\n",
    "\n",
    "  lista_x = np.random.rand(n)\n",
    "  results = equac(lista_x)\n",
    "\n",
    "  return (b - a) / n * results.sum() "
   ]
  },
  {
   "cell_type": "markdown",
   "metadata": {
    "id": "rtQREHd3StW4"
   },
   "source": [
    "### N = 100"
   ]
  },
  {
   "cell_type": "code",
   "execution_count": 107,
   "metadata": {
    "colab": {
     "base_uri": "https://localhost:8080/",
     "height": 282
    },
    "id": "5jV08N-9StW5",
    "outputId": "d2f58ea4-a446-4909-d21e-901c9ba8d39c"
   },
   "outputs": [
    {
     "name": "stdout",
     "output_type": "stream",
     "text": [
      "Solução numerica da integral: 1.7198267180962516\n",
      "Respota Analitica: 1.718281828459045\n",
      "Erro estatístico: 0.004968309341193068\n"
     ]
    },
    {
     "data": {
      "image/png": "[encoded data removed]",
      "text/plain": [
       "<Figure size 432x288 with 1 Axes>"
      ]
     },
     "metadata": {},
     "output_type": "display_data"
    }
   ],
   "source": [
    "n = 100\n",
    "\n",
    "results = []\n",
    "\n",
    "for i in range(repetition_num):\n",
    "  value = integral_calc_method_2(n)\n",
    "  results.append(value)\n",
    "\n",
    "plt.hist(results)\n",
    "\n",
    "print(f'Solução numerica da integral: { sum(results) / len(results) }')\n",
    "print(f'Respota Analitica: {np.exp(1) - 1}')\n",
    "erro = np.array(results)\n",
    "print(f'Erro estatístico: { erro.std() / np.sqrt(n) }')\n",
    "\n",
    "plt.show()"
   ]
  },
  {
   "cell_type": "markdown",
   "metadata": {
    "id": "DxU1q1mKStW5"
   },
   "source": [
    "### N = 1000"
   ]
  },
  {
   "cell_type": "code",
   "execution_count": 108,
   "metadata": {
    "colab": {
     "base_uri": "https://localhost:8080/",
     "height": 282
    },
    "id": "XFXGb7cWStW5",
    "outputId": "3f556815-1cc7-4437-ce2a-5316d1d4b33c"
   },
   "outputs": [
    {
     "name": "stdout",
     "output_type": "stream",
     "text": [
      "Solução numerica da integral: 1.7184049280372828\n",
      "Respota Analitica: 1.718281828459045\n",
      "Erro estatístico: 0.0004860980236497973\n"
     ]
    },
    {
     "data": {
      "image/png": "[encoded data removed]",
      "text/plain": [
       "<Figure size 432x288 with 1 Axes>"
      ]
     },
     "metadata": {},
     "output_type": "display_data"
    }
   ],
   "source": [
    "n = 1000\n",
    "\n",
    "results = []\n",
    "\n",
    "for i in range(repetition_num):\n",
    "  value = integral_calc_method_2(n)\n",
    "  results.append(value)\n",
    "\n",
    "plt.hist(results)\n",
    "\n",
    "print(f'Solução numerica da integral: { sum(results) / len(results) }')\n",
    "print(f'Respota Analitica: {np.exp(1) - 1}')\n",
    "erro = np.array(results)\n",
    "print(f'Erro estatístico: { erro.std() / np.sqrt(n) }')\n",
    "\n",
    "plt.show()"
   ]
  },
  {
   "cell_type": "markdown",
   "metadata": {
    "id": "rkjaZwZsStW6"
   },
   "source": [
    "### N = 10000\n"
   ]
  },
  {
   "cell_type": "code",
   "execution_count": 109,
   "metadata": {
    "colab": {
     "base_uri": "https://localhost:8080/",
     "height": 282
    },
    "id": "KZPFWBuQStW6",
    "outputId": "3b7eca60-e211-4ddc-dde0-fa03fc31501e"
   },
   "outputs": [
    {
     "name": "stdout",
     "output_type": "stream",
     "text": [
      "Solução numerica da integral: 1.718413623890229\n",
      "Respota Analitica: 1.718281828459045\n",
      "Erro estatístico: 5.0498436303765045e-05\n"
     ]
    },
    {
     "data": {
      "image/png": "[encoded data removed]",
      "text/plain": [
       "<Figure size 432x288 with 1 Axes>"
      ]
     },
     "metadata": {},
     "output_type": "display_data"
    }
   ],
   "source": [
    "n = 10000\n",
    "\n",
    "results = []\n",
    "\n",
    "for i in range(repetition_num):\n",
    "  value = integral_calc_method_2(n)\n",
    "  results.append(value)\n",
    "\n",
    "plt.hist(results)\n",
    "\n",
    "print(f'Solução numerica da integral: { sum(results) / len(results) }')\n",
    "print(f'Respota Analitica: {np.exp(1) - 1}')\n",
    "erro = np.array(results)\n",
    "print(f'Erro estatístico: { erro.std() / np.sqrt(n) }')\n",
    "\n",
    "plt.show()"
   ]
  },
  {
   "cell_type": "markdown",
   "metadata": {
    "id": "gU4TbViuMaHe"
   },
   "source": [
    "# Exercicio 3"
   ]
  },
  {
   "cell_type": "markdown",
   "metadata": {
    "id": "4sU-nid8NAgq"
   },
   "source": [
    "## Metodo 1"
   ]
  },
  {
   "cell_type": "code",
   "execution_count": 110,
   "metadata": {
    "collapsed": true,
    "id": "HMgHPHpPK9US"
   },
   "outputs": [],
   "source": [
    "# Numero de Repeticoes de cada Experimento\n",
    "repetition_num = 1000\n",
    "\n",
    "# Formula da Equacao\n",
    "def equac(x):\n",
    "    return (np.sin(x)**2)\n",
    "\n",
    "# Resolucao da Integral pelo metodo 1\n",
    "def integral_calc_method_1(n):\n",
    "  a = 0\n",
    "  b = np.pi\n",
    "  n = 10000\n",
    "  y_max = 1\n",
    "\n",
    "  lista_x = np.random.rand(n) * np.pi\n",
    "  lista_y = np.random.rand(n)\n",
    "\n",
    "  count = 0\n",
    "\n",
    "  for i in range(n):\n",
    "      valor = equac(lista_x[i])\n",
    "      if lista_y[i] <= valor:\n",
    "          count += 1\n",
    "          \n",
    "  return count / n * y_max * (b - a) "
   ]
  },
  {
   "cell_type": "markdown",
   "metadata": {
    "id": "rR0aS1OSm2fV"
   },
   "source": [
    "### N = 100\n"
   ]
  },
  {
   "cell_type": "code",
   "execution_count": 111,
   "metadata": {
    "colab": {
     "base_uri": "https://localhost:8080/",
     "height": 282
    },
    "id": "rpchOtjWK9UT",
    "outputId": "79c6c9f8-ed44-4d02-c5f9-3942f0e89839"
   },
   "outputs": [
    {
     "name": "stdout",
     "output_type": "stream",
     "text": [
      "Solução numerica da integral: 1.5702525171065624\n",
      "Respota Analitica: 1.5707963267948966\n",
      "Erro estatístico: 0.0015831889774405496\n"
     ]
    },
    {
     "data": {
      "image/png": "[encoded data removed]",
      "text/plain": [
       "<Figure size 432x288 with 1 Axes>"
      ]
     },
     "metadata": {},
     "output_type": "display_data"
    }
   ],
   "source": [
    "n = 100\n",
    "\n",
    "results = []\n",
    "\n",
    "for i in range(repetition_num):\n",
    "  value = integral_calc_method_1(n)\n",
    "  results.append(value)\n",
    "\n",
    "plt.hist(results)\n",
    "\n",
    "print(f'Solução numerica da integral: { sum(results) / len(results) }')\n",
    "print(f'Respota Analitica: {np.pi/2}')\n",
    "erro = np.array(results)\n",
    "print(f'Erro estatístico: { erro.std() / np.sqrt(n) }')\n",
    "\n",
    "plt.show()"
   ]
  },
  {
   "cell_type": "markdown",
   "metadata": {
    "id": "trRkb7YpnLgc"
   },
   "source": [
    "### N = 1000"
   ]
  },
  {
   "cell_type": "code",
   "execution_count": 112,
   "metadata": {
    "colab": {
     "base_uri": "https://localhost:8080/",
     "height": 282
    },
    "id": "xoTTWp8tnOPt",
    "outputId": "e661c216-71bb-4629-942e-367971c7768c"
   },
   "outputs": [
    {
     "name": "stdout",
     "output_type": "stream",
     "text": [
      "Solução numerica da integral: 1.569846309176449\n",
      "Respota Analitica: 1.5707963267948966\n",
      "Erro estatístico: 0.0004888234807042606\n"
     ]
    },
    {
     "data": {
      "image/png": "[encoded data removed]",
      "text/plain": [
       "<Figure size 432x288 with 1 Axes>"
      ]
     },
     "metadata": {},
     "output_type": "display_data"
    }
   ],
   "source": [
    "n = 1000\n",
    "\n",
    "results = []\n",
    "\n",
    "for i in range(repetition_num):\n",
    "  value = integral_calc_method_1(n)\n",
    "  results.append(value)\n",
    "\n",
    "plt.hist(results)\n",
    "\n",
    "print(f'Solução numerica da integral: { sum(results) / len(results) }')\n",
    "print(f'Respota Analitica: {np.pi/2}')\n",
    "erro = np.array(results)\n",
    "print(f'Erro estatístico: { erro.std() / np.sqrt(n) }')\n",
    "\n",
    "plt.show()"
   ]
  },
  {
   "cell_type": "markdown",
   "metadata": {
    "id": "32oqltfAnO80"
   },
   "source": [
    "### N = 10000\n"
   ]
  },
  {
   "cell_type": "code",
   "execution_count": 113,
   "metadata": {
    "colab": {
     "base_uri": "https://localhost:8080/",
     "height": 282
    },
    "id": "H9j37Gd5nS08",
    "outputId": "43f4d631-d874-44bb-f3c4-0fc842c5f65f"
   },
   "outputs": [
    {
     "name": "stdout",
     "output_type": "stream",
     "text": [
      "Solução numerica da integral: 1.5713011807343273\n",
      "Respota Analitica: 1.5707963267948966\n",
      "Erro estatístico: 0.00016189131892374969\n"
     ]
    },
    {
     "data": {
      "image/png": "[encoded data removed]",
      "text/plain": [
       "<Figure size 432x288 with 1 Axes>"
      ]
     },
     "metadata": {},
     "output_type": "display_data"
    }
   ],
   "source": [
    "n = 10000\n",
    "\n",
    "results = []\n",
    "\n",
    "for i in range(repetition_num):\n",
    "  value = integral_calc_method_1(n)\n",
    "  results.append(value)\n",
    "\n",
    "plt.hist(results)\n",
    "\n",
    "print(f'Solução numerica da integral: { sum(results) / len(results) }')\n",
    "print(f'Respota Analitica: {np.pi/2}')\n",
    "erro = np.array(results)\n",
    "print(f'Erro estatístico: { erro.std() / np.sqrt(n) }')\n",
    "\n",
    "plt.show()"
   ]
  },
  {
   "cell_type": "markdown",
   "metadata": {
    "id": "2B-aWSvkou9c"
   },
   "source": [
    "## Metodo 2"
   ]
  },
  {
   "cell_type": "code",
   "execution_count": 114,
   "metadata": {
    "collapsed": true,
    "id": "CTT_gHH2owZ9"
   },
   "outputs": [],
   "source": [
    "# Numero de Repeticoes de cada Experimento\n",
    "repetition_num = 1000\n",
    "\n",
    "\n",
    "# Formula da Equacao\n",
    "def equac(x):\n",
    "    return (np.sin(x)**2)\n",
    "\n",
    "\n",
    "# Resolucao da Integral pelo metodo 2\n",
    "def integral_calc_method_2(n):\n",
    "  a = 0\n",
    "  b = np.pi\n",
    "  y_max = 1\n",
    "\n",
    "  lista_x = np.random.rand(n) * np.pi\n",
    "  results = equac(lista_x)\n",
    "\n",
    "  return (b - a) / n * results.sum() "
   ]
  },
  {
   "cell_type": "markdown",
   "metadata": {
    "id": "lvdNm2dEqeH0"
   },
   "source": [
    "### N = 100\n"
   ]
  },
  {
   "cell_type": "code",
   "execution_count": 115,
   "metadata": {
    "colab": {
     "base_uri": "https://localhost:8080/",
     "height": 282
    },
    "id": "VlQD5SRtqdhH",
    "outputId": "edef9758-2193-4178-f43f-39d468e1df6d"
   },
   "outputs": [
    {
     "name": "stdout",
     "output_type": "stream",
     "text": [
      "Solução numerica da integral: 1.5669989417629369\n",
      "Respota Analitica: 1.5707963267948966\n",
      "Erro estatístico: 0.010705421560541568\n"
     ]
    },
    {
     "data": {
      "image/png": "[encoded data removed]",
      "text/plain": [
       "<Figure size 432x288 with 1 Axes>"
      ]
     },
     "metadata": {},
     "output_type": "display_data"
    }
   ],
   "source": [
    "n = 100\n",
    "\n",
    "results = []\n",
    "\n",
    "for i in range(repetition_num):\n",
    "  value = integral_calc_method_2(n)\n",
    "  results.append(value)\n",
    "\n",
    "plt.hist(results)\n",
    "\n",
    "print(f'Solução numerica da integral: { sum(results) / len(results) }')\n",
    "print(f'Respota Analitica: {np.pi/2}')\n",
    "erro = np.array(results)\n",
    "print(f'Erro estatístico: { erro.std() / np.sqrt(n) }')\n",
    "\n",
    "plt.show()"
   ]
  },
  {
   "cell_type": "markdown",
   "metadata": {
    "id": "AE7KHgEBrJ-U"
   },
   "source": [
    "### N = 1000"
   ]
  },
  {
   "cell_type": "code",
   "execution_count": 116,
   "metadata": {
    "colab": {
     "base_uri": "https://localhost:8080/",
     "height": 282
    },
    "id": "O9LaDPDPrMZk",
    "outputId": "1d51aeb6-3ae8-4e20-86b9-cbdc818833e6"
   },
   "outputs": [
    {
     "name": "stdout",
     "output_type": "stream",
     "text": [
      "Solução numerica da integral: 1.5714679628327708\n",
      "Respota Analitica: 1.5707963267948966\n",
      "Erro estatístico: 0.0011456205383524605\n"
     ]
    },
    {
     "data": {
      "image/png": "[encoded data removed]",
      "text/plain": [
       "<Figure size 432x288 with 1 Axes>"
      ]
     },
     "metadata": {},
     "output_type": "display_data"
    }
   ],
   "source": [
    "n = 1000\n",
    "\n",
    "results = []\n",
    "\n",
    "for i in range(repetition_num):\n",
    "  value = integral_calc_method_2(n)\n",
    "  results.append(value)\n",
    "\n",
    "plt.hist(results)\n",
    "\n",
    "print(f'Solução numerica da integral: { sum(results) / len(results) }')\n",
    "print(f'Respota Analitica: {np.pi/2}')\n",
    "erro = np.array(results)\n",
    "print(f'Erro estatístico: { erro.std() / np.sqrt(n) }')\n",
    "\n",
    "plt.show()"
   ]
  },
  {
   "cell_type": "markdown",
   "metadata": {
    "id": "ZBBjYA4qrT_j"
   },
   "source": [
    "### N = 10000"
   ]
  },
  {
   "cell_type": "code",
   "execution_count": 117,
   "metadata": {
    "colab": {
     "base_uri": "https://localhost:8080/",
     "height": 282
    },
    "id": "mICeBtKdrV18",
    "outputId": "48ae0d62-be94-486c-8a40-1d7bc6d4791a"
   },
   "outputs": [
    {
     "name": "stdout",
     "output_type": "stream",
     "text": [
      "Solução numerica da integral: 1.570798534139656\n",
      "Respota Analitica: 1.5707963267948966\n",
      "Erro estatístico: 0.00011266813114604002\n"
     ]
    },
    {
     "data": {
      "image/png": "[encoded data removed]",
      "text/plain": [
       "<Figure size 432x288 with 1 Axes>"
      ]
     },
     "metadata": {},
     "output_type": "display_data"
    }
   ],
   "source": [
    "n = 10000\n",
    "\n",
    "results = []\n",
    "\n",
    "for i in range(repetition_num):\n",
    "  value = integral_calc_method_2(n)\n",
    "  results.append(value)\n",
    "\n",
    "plt.hist(results)\n",
    "\n",
    "print(f'Solução numerica da integral: { sum(results) / len(results) }')\n",
    "print(f'Respota Analitica: {np.pi/2}')\n",
    "erro = np.array(results)\n",
    "print(f'Erro estatístico: { erro.std() / np.sqrt(n) }')\n",
    "\n",
    "plt.show()"
   ]
  },
  {
   "cell_type": "markdown",
   "metadata": {},
   "source": [
    "# Exercicio 4"
   ]
  },
  {
   "cell_type": "code",
   "execution_count": 142,
   "metadata": {},
   "outputs": [],
   "source": [
    "# Numero de Repeticoes de cada Experimento\n",
    "repetition_num = 1000\n",
    "\n",
    "\n",
    "# Formula da Equacao\n",
    "def equac_vetor(r1, r2 ,r3):\n",
    "    div = ((r1 + r2) * r3)\n",
    "    div = 1**(10-6) if div == 0 else div\n",
    "    \n",
    "    return 1 / div\n",
    "\n",
    "def equac(x):\n",
    "    if len(x) != 9:\n",
    "        exit(2)\n",
    "    \n",
    "    div = (x[0]+x[1])*x[2]\n",
    "    div += (x[3]+x[4])*x[5]\n",
    "    div += (x[6]+x[7])*x[8]\n",
    "\n",
    "    div = 1**(10-6) if div == 0 else div\n",
    "    \n",
    "    return 1 / div\n",
    "    \n",
    "# Resolucao da Integral pelo metodo 2\n",
    "def integral_calc_method_2(n):\n",
    "    a = 0\n",
    "    b = 1\n",
    "\n",
    "    lista_x = np.random.rand(n, 9)\n",
    "    results = np.empty((n))\n",
    "\n",
    "    for i in range (n): \n",
    "        results[i] = (equac(lista_x[i]))\n",
    "\n",
    "    return (b - a) / n * results.sum() "
   ]
  },
  {
   "cell_type": "code",
   "execution_count": 143,
   "metadata": {},
   "outputs": [
    {
     "name": "stdout",
     "output_type": "stream",
     "text": [
      "Solução numerica da integral: 0.8618048069488619\n",
      "Erro estatístico: 0.0006428064787168069\n"
     ]
    },
    {
     "data": {
      "image/png": "[encoded data removed]",
      "text/plain": [
       "<Figure size 432x288 with 1 Axes>"
      ]
     },
     "metadata": {},
     "output_type": "display_data"
    }
   ],
   "source": [
    "n = 1000\n",
    "\n",
    "results = []\n",
    "\n",
    "for i in range(repetition_num):\n",
    "  value = integral_calc_method_2(n)\n",
    "  results.append(value)\n",
    "\n",
    "plt.hist(results)\n",
    "\n",
    "print(f'Solução numerica da integral: { sum(results) / len(results) }')\n",
    "erro = np.array(results)\n",
    "print(f'Erro estatístico: { erro.std() / np.sqrt(n) }')\n",
    "\n",
    "plt.show()"
   ]
  },
  {
   "cell_type": "code",
   "execution_count": 151,
   "metadata": {
    "collapsed": true
   },
   "outputs": [],
   "source": [
    "def histogram(repetition_num, amostra):\n",
    "    results = []\n",
    "    \n",
    "    for i in range(repetition_num):\n",
    "        value = integral_calc_method_2(amostra)\n",
    "        results.append(value)\n",
    "        \n",
    "    plt.figsize(15, 15)\n",
    "        \n",
    "    plt.subplot(i, 1, 1)\n",
    "    plt.hist(results)\n",
    "\n",
    "    plt.show()\n",
    "\n",
    "\n",
    "#num_amostra = [10, 100, 500, 1000, 2000, 5000, 7000, 10000, 15000]\n",
    "#num_repetições = [10, 100, 500, 1000, 2000]\n",
    "num_amostra = [10, 100, 500]\n",
    "num_repeticao = [10, 100]"
   ]
  },
  {
   "cell_type": "code",
   "execution_count": 152,
   "metadata": {},
   "outputs": [
    {
     "ename": "AttributeError",
     "evalue": "module 'matplotlib.pyplot' has no attribute 'figsize'",
     "output_type": "error",
     "traceback": [
      "\u001b[0;31m---------------------------------------------------------------------------\u001b[0m",
      "\u001b[0;31mAttributeError\u001b[0m                            Traceback (most recent call last)",
      "\u001b[0;32m<ipython-input-152-466a2d66f8f6>\u001b[0m in \u001b[0;36m<module>\u001b[0;34m()\u001b[0m\n\u001b[1;32m      1\u001b[0m \u001b[0;32mfor\u001b[0m \u001b[0mamostra\u001b[0m \u001b[0;32min\u001b[0m \u001b[0mnum_amostra\u001b[0m\u001b[0;34m:\u001b[0m\u001b[0;34m\u001b[0m\u001b[0;34m\u001b[0m\u001b[0m\n\u001b[1;32m      2\u001b[0m     \u001b[0;32mfor\u001b[0m \u001b[0mrepeticao\u001b[0m \u001b[0;32min\u001b[0m \u001b[0mnum_repeticao\u001b[0m\u001b[0;34m:\u001b[0m\u001b[0;34m\u001b[0m\u001b[0;34m\u001b[0m\u001b[0m\n\u001b[0;32m----> 3\u001b[0;31m         \u001b[0mhistogram\u001b[0m\u001b[0;34m(\u001b[0m\u001b[0mrepeticao\u001b[0m\u001b[0;34m,\u001b[0m \u001b[0mamostra\u001b[0m\u001b[0;34m)\u001b[0m\u001b[0;34m\u001b[0m\u001b[0;34m\u001b[0m\u001b[0m\n\u001b[0m",
      "\u001b[0;32m<ipython-input-151-09ef3dd04595>\u001b[0m in \u001b[0;36mhistogram\u001b[0;34m(repetition_num, amostra)\u001b[0m\n\u001b[1;32m      6\u001b[0m         \u001b[0mresults\u001b[0m\u001b[0;34m.\u001b[0m\u001b[0mappend\u001b[0m\u001b[0;34m(\u001b[0m\u001b[0mvalue\u001b[0m\u001b[0;34m)\u001b[0m\u001b[0;34m\u001b[0m\u001b[0;34m\u001b[0m\u001b[0m\n\u001b[1;32m      7\u001b[0m \u001b[0;34m\u001b[0m\u001b[0m\n\u001b[0;32m----> 8\u001b[0;31m     \u001b[0mplt\u001b[0m\u001b[0;34m.\u001b[0m\u001b[0mfigsize\u001b[0m\u001b[0;34m(\u001b[0m\u001b[0;36m15\u001b[0m\u001b[0;34m,\u001b[0m \u001b[0;36m15\u001b[0m\u001b[0;34m)\u001b[0m\u001b[0;34m\u001b[0m\u001b[0;34m\u001b[0m\u001b[0m\n\u001b[0m\u001b[1;32m      9\u001b[0m \u001b[0;34m\u001b[0m\u001b[0m\n\u001b[1;32m     10\u001b[0m     \u001b[0mplt\u001b[0m\u001b[0;34m.\u001b[0m\u001b[0msubplot\u001b[0m\u001b[0;34m(\u001b[0m\u001b[0mi\u001b[0m\u001b[0;34m,\u001b[0m \u001b[0;36m1\u001b[0m\u001b[0;34m,\u001b[0m \u001b[0;36m1\u001b[0m\u001b[0;34m)\u001b[0m\u001b[0;34m\u001b[0m\u001b[0;34m\u001b[0m\u001b[0m\n",
      "\u001b[0;31mAttributeError\u001b[0m: module 'matplotlib.pyplot' has no attribute 'figsize'"
     ]
    }
   ],
   "source": [
    "for amostra in num_amostra:\n",
    "    for repeticao in num_repeticao:\n",
    "        histogram(repeticao, amostra)"
   ]
  }
 ],
 "metadata": {
  "colab": {
   "collapsed_sections": [
    "PWOAqzVkMUHB",
    "1tP053BrQYxc",
    "-wOJYCi_M5Zp",
    "Jztdc28mQP6L",
    "_Q_JbO_xQO_7",
    "mMyFghPsQg3_",
    "5piIyDj-RwK0",
    "-2DuZXEkRwK2",
    "kV1q9jivRwK2",
    "8302XOELStWn",
    "PGDORIJkStWq",
    "noqEwltSStWx",
    "WvHKKeoeStW0",
    "6qN_Er4TStW2",
    "0kbIqwJkStW3",
    "rtQREHd3StW4",
    "DxU1q1mKStW5",
    "rkjaZwZsStW6",
    "gU4TbViuMaHe",
    "4sU-nid8NAgq",
    "rR0aS1OSm2fV",
    "trRkb7YpnLgc",
    "32oqltfAnO80",
    "2B-aWSvkou9c",
    "lvdNm2dEqeH0",
    "AE7KHgEBrJ-U",
    "ZBBjYA4qrT_j"
   ],
   "provenance": []
  },
  "kernelspec": {
   "display_name": "Python 3",
   "language": "python",
   "name": "python3"
  },
  "language_info": {
   "codemirror_mode": {
    "name": "ipython",
    "version": 3
   },
   "file_extension": ".py",
   "mimetype": "text/x-python",
   "name": "python",
   "nbconvert_exporter": "python",
   "pygments_lexer": "ipython3",
   "version": "3.6.8"
  }
 },
 "nbformat": 4,
 "nbformat_minor": 1
}
